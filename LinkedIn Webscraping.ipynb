{
 "cells": [
  {
   "cell_type": "code",
   "execution_count": null,
   "id": "266e5bcf",
   "metadata": {},
   "outputs": [],
   "source": [
    "from selenium import webdriver\n",
    "import time\n",
    "import pandas as pd \n",
    "import os\n",
    "import requests\n",
    "from bs4 import BeautifulSoup"
   ]
  },
  {
   "cell_type": "code",
   "execution_count": null,
   "id": "ad66f787",
   "metadata": {},
   "outputs": [],
   "source": [
    "from selenium.webdriver.support import select\n",
    "from selenium.webdriver.support.ui import WebDriverWait\n",
    "from selenium.webdriver.common import by\n",
    "from selenium.webdriver.support import expected_conditions as EC"
   ]
  },
  {
   "cell_type": "code",
   "execution_count": null,
   "id": "86529cf9",
   "metadata": {},
   "outputs": [],
   "source": [
    "browser=webdriver.Chrome('chromedriver.exe')\n",
    "browser.get(\"https://www.linkedin.com\")"
   ]
  },
  {
   "cell_type": "code",
   "execution_count": null,
   "id": "b577402f",
   "metadata": {},
   "outputs": [],
   "source": [
    "username=browser.find_element_by_id(\"session_key\")\n",
    "username.send_keys(\"yourmail@gmail.com\")\n",
    "password=browser.find_element_by_id(\"session_password\")\n",
    "password.send_keys(\"your pass\")"
   ]
  },
  {
   "cell_type": "code",
   "execution_count": null,
   "id": "9973b506",
   "metadata": {},
   "outputs": [],
   "source": [
    "login_button=browser.find_element_by_class_name(\"sign-in-form__submit-button\")\n",
    "login_button.click()"
   ]
  },
  {
   "cell_type": "code",
   "execution_count": null,
   "id": "9d1cc775",
   "metadata": {},
   "outputs": [],
   "source": [
    "urllist=[]\n",
    "limit=0\n",
    "while limit<500:\n",
    "    j=\"https://www.linkedin.com/jobs/search/?currentJobId=3258294486&geoId=102713980&location=India&start=\" +str(limit)\n",
    "    urllist.append(j)\n",
    "    limit+=25\n",
    "                "
   ]
  },
  {
   "cell_type": "code",
   "execution_count": null,
   "id": "9b70ae41",
   "metadata": {},
   "outputs": [],
   "source": [
    "in_text=[]\n",
    "ref_link_list=[]\n",
    "soup_list=[]\n",
    "\n",
    "for i in range(len(urllist)):\n",
    "    browser.get(urllist[i])\n",
    "    browser.implicitly_wait(3)\n",
    "    \n",
    "    webpage=requests.get(urllist[i]).text\n",
    "    \n",
    "    soup_list.append(BeautifulSoup(webpage,'lxml'))\n",
    "    \n",
    "    for link in soup_list[i].find_all(\"a\"):\n",
    "        ref_link_list.append(link.get(\"href\"))\n",
    "        in_text.append(\"Inner Text: {}\".format(link.text.strip()))"
   ]
  },
  {
   "cell_type": "code",
   "execution_count": null,
   "id": "e5a7b9a3",
   "metadata": {},
   "outputs": [],
   "source": [
    "ref_link_last=[]\n",
    "for i in range(len(ref_link_list)):\n",
    "    if 'jobs/view' in str(ref_link_list[i]):\n",
    "        ref_link_last.append(ref_link_list[i])\n",
    "    else:\n",
    "        continue\n",
    "        "
   ]
  },
  {
   "cell_type": "code",
   "execution_count": null,
   "id": "0f235817",
   "metadata": {},
   "outputs": [],
   "source": [
    "Job_designation=[]\n",
    "Company_name=[]\n",
    "city=[]\n",
    "Applicants_count=[]\n",
    "Job_level=[]\n",
    "E_count_ind=[]\n",
    "Emp_count=[]\n",
    "Linkedin_emp=[]\n",
    "Company_followers=[]"
   ]
  },
  {
   "cell_type": "code",
   "execution_count": null,
   "id": "b61fa5bb",
   "metadata": {},
   "outputs": [],
   "source": [
    "count=0\n",
    "for link in range(0,len(ref_link_last)):\n",
    "    count+=1\n",
    "    print(count)\n",
    "    browser.get(ref_link_last[link])\n",
    "    browser.implicitly_wait(3)\n",
    "    \n",
    "    try:\n",
    "        job=browser.find_elements_by_class_name(\"jobs-unified-top-card__job-title\")\n",
    "        Job_designation.append(job[0].text)\n",
    "    except:\n",
    "        Job_designation.append('NULL')\n",
    "    \n",
    "    try:\n",
    "        company_name=browser.find_elements_by_class_name(\"jobs-unified-top-card__company-name\")\n",
    "        Company_name.append(company_name[0].text)\n",
    "    except:\n",
    "        Company_name.append('NULL')\n",
    "        \n",
    "    try:\n",
    "        locationname=browser.find_elements_by_class_name(\"jobs-unified-top-card__bullet\")\n",
    "        city.append(locationname[0].text)\n",
    "    except:\n",
    "        city.append('NULL')\n",
    "        \n",
    "    try:\n",
    "        applicants_count=browser.find_elements_by_class_name(\"jobs-unified-top-card__applicant-count\")\n",
    "        Applicants_count.append(applicants_count[0].text)\n",
    "    except:\n",
    "        Applicants_count.append('NULL')\n",
    "        \n",
    "    try:\n",
    "        job_nature=browser.find_elements_by_class_name(\"jobs-unified-top-card__job-insight\")\n",
    "        Job_level.append(job_nature[0].text)\n",
    "        E_count_ind.append(job_nature[1].text)\n",
    "    except:\n",
    "        Job_level.append('NULL')\n",
    "        E_count_ind.append('NULL')\n",
    "        \n",
    "    try:\n",
    "        emp_count_onLinkedin=browser.find_elements_by_class_name(\"jobs-company__inline-information\")\n",
    "        Emp_count.append(emp_count_onLinkedin[0].text)\n",
    "        Linkedin_emp.append(emp_count_onLinkedin[1].text)\n",
    "        \n",
    "    except:\n",
    "        Emp_count.append('NULL')\n",
    "        Linkedin_emp.append('NULL')\n",
    "        \n",
    "        \n",
    "    try:\n",
    "        followers=browser.find_elements_by_class_name(\"artdeco-entity-lockup__subtitle\")\n",
    "        Company_followers.append(followers[0].text)\n",
    "    except:\n",
    "        Company_followers.append('NULL')"
   ]
  },
  {
   "cell_type": "code",
   "execution_count": null,
   "id": "a85fd122",
   "metadata": {},
   "outputs": [],
   "source": [
    "col=[\"designation\",\"Company\",\"location\",\"Applicant_count\",\"Jobnature_level\",\"Empcount_Ctype\",\"Empcount\",\"Emp_onLinkedin\",\"Companyfollowers\"]\n",
    "df=pd.DataFrame({\"designation\":Job_designation,\"Company\":Company_name,\"location\":city,\"Applicant_count\":Applicants_count,\"Jobnature_level\":Job_level,\"Empcount_Ctype\":E_count_ind,\"Empcount\":Emp_count,\"Emp_onLinkedin\":Linkedin_emp,\"Companyfollowers\":Company_followers})"
   ]
  },
  {
   "cell_type": "code",
   "execution_count": null,
   "id": "1fe88951",
   "metadata": {},
   "outputs": [],
   "source": [
    "df.head()"
   ]
  },
  {
   "cell_type": "code",
   "execution_count": null,
   "id": "8c8a6c75",
   "metadata": {},
   "outputs": [],
   "source": [
    "df.to_csv(\"jobs.csv\")"
   ]
  }
 ],
 "metadata": {
  "kernelspec": {
   "display_name": "Python 3 (ipykernel)",
   "language": "python",
   "name": "python3"
  },
  "language_info": {
   "codemirror_mode": {
    "name": "ipython",
    "version": 3
   },
   "file_extension": ".py",
   "mimetype": "text/x-python",
   "name": "python",
   "nbconvert_exporter": "python",
   "pygments_lexer": "ipython3",
   "version": "3.9.12"
  }
 },
 "nbformat": 4,
 "nbformat_minor": 5
}
